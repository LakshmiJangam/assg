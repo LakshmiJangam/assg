{
 "cells": [
  {
   "cell_type": "markdown",
   "id": "0c83af6c",
   "metadata": {},
   "source": [
    "# 1.Count the number of times iNeuron appears in the string.\n"
   ]
  },
  {
   "cell_type": "code",
   "execution_count": 77,
   "id": "4dd62b24",
   "metadata": {},
   "outputs": [
    {
     "name": "stdout",
     "output_type": "stream",
     "text": [
      "The number of times iNeuron appears in the given string is: 3\n"
     ]
    }
   ],
   "source": [
    "text = \"Welcome to iNeuron, You are a part of FSDS Bootcamp 2 in iNeuron. I hope you are enjoying the course by iNeuron\"\n",
    "\n",
    "sub_text = \"iNeuron\"\n",
    "count_txt = text.count(sub_text)\n",
    "\n",
    "print(f\"The number of times iNeuron appears in the given string is: {count_txt}\")\n"
   ]
  },
  {
   "cell_type": "markdown",
   "id": "745f5aca",
   "metadata": {},
   "source": [
    "# 2.Check if position 5 to 11 ends with the phrase iNeuron. in the string\n",
    "\n",
    "    Ans: No, It doesn't ends with the phrase for the given position as per the below output."
   ]
  },
  {
   "cell_type": "code",
   "execution_count": 4,
   "id": "34278407",
   "metadata": {},
   "outputs": [
    {
     "data": {
      "text/plain": [
       "', welc'"
      ]
     },
     "execution_count": 4,
     "metadata": {},
     "output_type": "execute_result"
    }
   ],
   "source": [
    "txt = \"Hello, welcome to FSDS 2.0 at iNeuron.\"\n",
    "txt[5:11]"
   ]
  },
  {
   "cell_type": "markdown",
   "id": "6a13edaa",
   "metadata": {},
   "source": [
    "# 3.Write a program that takes your full name as input and displays the abbreviations of the first and middle names except the last name which is displayed as it is. For example, if your name is Sunny Bhaveen Chandra, then the output should be S.B.Chandra."
   ]
  },
  {
   "cell_type": "code",
   "execution_count": 92,
   "id": "eeb633e5",
   "metadata": {},
   "outputs": [
    {
     "name": "stdout",
     "output_type": "stream",
     "text": [
      "Enter your full name: Jangam Lakshmi Sekharaiah\n",
      "Your name is J.L.Sekharaiah\n"
     ]
    }
   ],
   "source": [
    "#Method1: If user gives first,second and last name\n",
    "full_name = input(\"Enter your full name: \")\n",
    "first_name,second_name,last_name = full_name.split(\" \")\n",
    "abb1=first_name[0]\n",
    "abb2=second_name[0]\n",
    "print(f\"Your name is {abb1}.{abb2}.{last_name}\")\n"
   ]
  },
  {
   "cell_type": "code",
   "execution_count": 103,
   "id": "e4084b8f",
   "metadata": {},
   "outputs": [
    {
     "name": "stdout",
     "output_type": "stream",
     "text": [
      "Enter your full name: Jangam lakshmi Sekharaiah bose\n",
      "please enter your name in the format of first name,second name and the last name\n"
     ]
    }
   ],
   "source": [
    "#method2:\n",
    "full_name = input(\"Enter your full name: \")\n",
    "name = full_name.split(\" \")\n",
    "\n",
    "if len(name) > 3:    # if name length is more than 3 words\n",
    "    print(f\"please enter your name in the format of first name, second name and the last name\")\n",
    "    \n",
    "elif len(name) == 3:   #if name length is 3 words\n",
    "    abbr1=name[0]\n",
    "    abbr2=name[1]\n",
    "    last_name = name[2]\n",
    "    print(f\"Your name is {abbr1[0]}.{abbr2[0]}.{last_name}\")  \n",
    "    \n",
    "elif len(name) == 2:   #if name length is 2 words\n",
    "    abbr1 = name[0]\n",
    "    last_name = name[1]\n",
    "    print(f\"Your name is {abbr1[0]}.{last_name}\")\n",
    "    \n",
    "else:\n",
    "    print(f\"Your name is {full_name} \")\n",
    "    "
   ]
  },
  {
   "cell_type": "markdown",
   "id": "ac11cb09",
   "metadata": {},
   "source": [
    "# 4.Join all items in a list into a string, using a hash(#) character as separator:"
   ]
  },
  {
   "cell_type": "code",
   "execution_count": 76,
   "id": "347126c5",
   "metadata": {},
   "outputs": [
    {
     "data": {
      "text/plain": [
       "'My#name#is#Rishav#Dash'"
      ]
     },
     "execution_count": 76,
     "metadata": {},
     "output_type": "execute_result"
    }
   ],
   "source": [
    "LIST = [\"My\", \"name\", \"is\", \"Rishav\", \"Dash\"]\n",
    "'#'.join(LIST)"
   ]
  },
  {
   "cell_type": "markdown",
   "id": "78b07af8",
   "metadata": {},
   "source": [
    "# 5.Write example for the following string manipulation function.\n",
    "- isdecimal()\n",
    "- islower()\n",
    "- isupper()\n",
    "- isalpha()\n",
    "- isnumeric()"
   ]
  },
  {
   "cell_type": "code",
   "execution_count": 12,
   "id": "3b38c505",
   "metadata": {},
   "outputs": [
    {
     "data": {
      "text/plain": [
       "False"
      ]
     },
     "execution_count": 12,
     "metadata": {},
     "output_type": "execute_result"
    }
   ],
   "source": [
    "#isdecimal() example with output as 'false'\n",
    "txt = 'iNeuron'  #output as false\n",
    "txt.isdecimal()"
   ]
  },
  {
   "cell_type": "code",
   "execution_count": 21,
   "id": "40c11a9c",
   "metadata": {},
   "outputs": [
    {
     "data": {
      "text/plain": [
       "True"
      ]
     },
     "execution_count": 21,
     "metadata": {},
     "output_type": "execute_result"
    }
   ],
   "source": [
    "#isdecimal() example with output as 'true'\n",
    "dec = '3'  #output as true\n",
    "dec.isdecimal()"
   ]
  },
  {
   "cell_type": "code",
   "execution_count": 22,
   "id": "2b3dc853",
   "metadata": {},
   "outputs": [
    {
     "data": {
      "text/plain": [
       "False"
      ]
     },
     "execution_count": 22,
     "metadata": {},
     "output_type": "execute_result"
    }
   ],
   "source": [
    "#islower() example with output as 'false'\n",
    "txt_1 = 'iNeuron'\n",
    "txt_1.islower()"
   ]
  },
  {
   "cell_type": "code",
   "execution_count": 23,
   "id": "1e75c2df",
   "metadata": {},
   "outputs": [
    {
     "data": {
      "text/plain": [
       "True"
      ]
     },
     "execution_count": 23,
     "metadata": {},
     "output_type": "execute_result"
    }
   ],
   "source": [
    "#islower() example with output as 'false'\n",
    "txt_11 = 'ineuron'\n",
    "txt_11.islower()"
   ]
  },
  {
   "cell_type": "code",
   "execution_count": 24,
   "id": "498d0e36",
   "metadata": {},
   "outputs": [
    {
     "data": {
      "text/plain": [
       "False"
      ]
     },
     "execution_count": 24,
     "metadata": {},
     "output_type": "execute_result"
    }
   ],
   "source": [
    "#isupper() example with output as 'false'\n",
    "txt_2='ineuron'\n",
    "txt_2.isupper()"
   ]
  },
  {
   "cell_type": "code",
   "execution_count": 25,
   "id": "3b783404",
   "metadata": {},
   "outputs": [
    {
     "data": {
      "text/plain": [
       "True"
      ]
     },
     "execution_count": 25,
     "metadata": {},
     "output_type": "execute_result"
    }
   ],
   "source": [
    "#isupper() example with output as 'true'\n",
    "txt_21='INEURON'\n",
    "txt_21.isupper()"
   ]
  },
  {
   "cell_type": "code",
   "execution_count": 29,
   "id": "38f844c1",
   "metadata": {},
   "outputs": [
    {
     "data": {
      "text/plain": [
       "False"
      ]
     },
     "execution_count": 29,
     "metadata": {},
     "output_type": "execute_result"
    }
   ],
   "source": [
    "#isalpha() example with output as 'false'\n",
    "txt_3 = 'ineuron23432'\n",
    "txt_3.isalpha()"
   ]
  },
  {
   "cell_type": "code",
   "execution_count": 31,
   "id": "61928e77",
   "metadata": {},
   "outputs": [
    {
     "data": {
      "text/plain": [
       "True"
      ]
     },
     "execution_count": 31,
     "metadata": {},
     "output_type": "execute_result"
    }
   ],
   "source": [
    "#isalpha() example with output as 'true'\n",
    "txt_31 = 'ineuron'\n",
    "txt_31.isalpha()"
   ]
  },
  {
   "cell_type": "code",
   "execution_count": 34,
   "id": "9b0350b4",
   "metadata": {},
   "outputs": [
    {
     "data": {
      "text/plain": [
       "False"
      ]
     },
     "execution_count": 34,
     "metadata": {},
     "output_type": "execute_result"
    }
   ],
   "source": [
    "# isnumeric()example with output as 'false'\n",
    "txt_4 = 'ineuron123'\n",
    "txt_4.isnumeric()"
   ]
  },
  {
   "cell_type": "code",
   "execution_count": 35,
   "id": "e7eb4a5c",
   "metadata": {},
   "outputs": [
    {
     "data": {
      "text/plain": [
       "True"
      ]
     },
     "execution_count": 35,
     "metadata": {},
     "output_type": "execute_result"
    }
   ],
   "source": [
    "# isnumeric()example with output as 'true'\n",
    "txt_41 = '1234'\n",
    "txt_41.isnumeric()"
   ]
  },
  {
   "cell_type": "markdown",
   "id": "3c66cf6f",
   "metadata": {},
   "source": [
    "# 6.Indian PAN card format follows the following formats -\n",
    "    AYEPC7894X\n",
    "    ABCDE9999Y Take user input for PAN_CARD and validate as per the above example."
   ]
  },
  {
   "cell_type": "code",
   "execution_count": 2,
   "id": "29381e29",
   "metadata": {},
   "outputs": [
    {
     "name": "stdout",
     "output_type": "stream",
     "text": [
      "Enter your PAN number: abc1e1234f\n",
      "Invalid PAN number. Try again\n"
     ]
    }
   ],
   "source": [
    "PAN_CARD = input(\"Enter your PAN number: \")\n",
    "PAN_1 = PAN_CARD[0:5]\n",
    "PAN_2 = PAN_CARD[5:9]\n",
    "PAN_3 = PAN_CARD[-1]\n",
    "PAN_2.isnumeric()\n",
    "if len(PAN_CARD)==10 and len(PAN_1)==5 and PAN_1.isalpha() and PAN_2.isnumeric() and PAN_3.isalpha():\n",
    "    print(f\"Entered PAN number is correct.\")\n",
    "else:\n",
    "    print(f\"Invalid PAN number. Try again\")\n"
   ]
  },
  {
   "cell_type": "code",
   "execution_count": null,
   "id": "7ab65bcf",
   "metadata": {},
   "outputs": [],
   "source": []
  },
  {
   "cell_type": "code",
   "execution_count": null,
   "id": "7f86fc8d",
   "metadata": {},
   "outputs": [],
   "source": [
    "\n"
   ]
  }
 ],
 "metadata": {
  "kernelspec": {
   "display_name": "Python 3 (ipykernel)",
   "language": "python",
   "name": "python3"
  },
  "language_info": {
   "codemirror_mode": {
    "name": "ipython",
    "version": 3
   },
   "file_extension": ".py",
   "mimetype": "text/x-python",
   "name": "python",
   "nbconvert_exporter": "python",
   "pygments_lexer": "ipython3",
   "version": "3.9.12"
  }
 },
 "nbformat": 4,
 "nbformat_minor": 5
}
