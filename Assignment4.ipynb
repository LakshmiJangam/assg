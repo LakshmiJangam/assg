{
 "cells": [
  {
   "cell_type": "markdown",
   "id": "26138061",
   "metadata": {},
   "source": [
    "# Q1. Find the largest number from the given list, use for loop."
   ]
  },
  {
   "cell_type": "code",
   "execution_count": 10,
   "id": "9369891f",
   "metadata": {},
   "outputs": [
    {
     "name": "stdout",
     "output_type": "stream",
     "text": [
      "Largest number in the given list:525\n"
     ]
    }
   ],
   "source": [
    "numbers = [12, 75, 150, 180, 145, 525, 50]\n",
    "n = numbers[0]\n",
    "for number in numbers:\n",
    "    if number>n:\n",
    "        n = number\n",
    "        \n",
    "print(f\"Largest number in the given list:{n}\")\n",
    "    "
   ]
  },
  {
   "cell_type": "markdown",
   "id": "7fc6045a",
   "metadata": {},
   "source": [
    "# Q2. Print all the even number between (1, 12)."
   ]
  },
  {
   "cell_type": "code",
   "execution_count": 12,
   "id": "8d8c6456",
   "metadata": {},
   "outputs": [
    {
     "name": "stdout",
     "output_type": "stream",
     "text": [
      "2\n",
      "4\n",
      "6\n",
      "8\n",
      "10\n"
     ]
    }
   ],
   "source": [
    "for i in range(1,12):\n",
    "    if i%2==0:\n",
    "        print(i)"
   ]
  },
  {
   "cell_type": "markdown",
   "id": "584fe34b",
   "metadata": {},
   "source": [
    "# Q3. Calculate the sum of all numbers from 1 to a given number"
   ]
  },
  {
   "cell_type": "code",
   "execution_count": 6,
   "id": "8f9a1b63",
   "metadata": {},
   "outputs": [
    {
     "name": "stdout",
     "output_type": "stream",
     "text": [
      "Enter a number:12\n",
      " Sum of all numbers from 1 to 12 is: 78\n"
     ]
    }
   ],
   "source": [
    "n = input(\"Enter a number:\")\n",
    "\n",
    "sum_1 = 0\n",
    "\n",
    "if n.isnumeric()==False:\n",
    "    print(f\"Entered number is not valid. Please try again.\")\n",
    "else:\n",
    "    n1 = int(n) \n",
    "    for i in range(1,n1+1):\n",
    "        sum_1 +=i\n",
    "        \n",
    "    print(f\" Sum of all numbers from 1 to {n1} is: {sum_1}\")\n"
   ]
  },
  {
   "cell_type": "markdown",
   "id": "2aaca504",
   "metadata": {},
   "source": [
    "# Q4. Write a program to display only those numbers from a list that satisfy the following conditions.\n",
    "The number must be divisible by five\n",
    "\n",
    "If the number is greater than 150, then skip it and move to the next number\n",
    "\n",
    "If the number is greater than 500, then stop the loop"
   ]
  },
  {
   "cell_type": "code",
   "execution_count": 36,
   "id": "70c9d172",
   "metadata": {},
   "outputs": [
    {
     "name": "stdout",
     "output_type": "stream",
     "text": [
      "75\n",
      "150\n",
      "145\n"
     ]
    }
   ],
   "source": [
    "numbers = [12,75,150,180,145,525,50]\n",
    "for number in numbers:\n",
    "    if number%5==0:\n",
    "        if number>500:\n",
    "            break\n",
    "        elif number>150:\n",
    "            continue\n",
    "        print(number)\n",
    "        "
   ]
  },
  {
   "cell_type": "markdown",
   "id": "b2fecb22",
   "metadata": {},
   "source": [
    "# Q5. Print the given list in reverse order."
   ]
  },
  {
   "cell_type": "code",
   "execution_count": 9,
   "id": "5c823e80",
   "metadata": {},
   "outputs": [
    {
     "name": "stdout",
     "output_type": "stream",
     "text": [
      "Reverse order of given list is: [50, 40, 30, 20, 10]\n"
     ]
    }
   ],
   "source": [
    "list1 = [10, 20, 30, 40, 50]\n",
    "\n",
    "print(f\"Reverse order of given list is: {list1[::-1]}\")"
   ]
  }
 ],
 "metadata": {
  "kernelspec": {
   "display_name": "Python 3 (ipykernel)",
   "language": "python",
   "name": "python3"
  },
  "language_info": {
   "codemirror_mode": {
    "name": "ipython",
    "version": 3
   },
   "file_extension": ".py",
   "mimetype": "text/x-python",
   "name": "python",
   "nbconvert_exporter": "python",
   "pygments_lexer": "ipython3",
   "version": "3.9.12"
  }
 },
 "nbformat": 4,
 "nbformat_minor": 5
}
