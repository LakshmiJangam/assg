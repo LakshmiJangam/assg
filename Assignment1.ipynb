{
 "cells": [
  {
   "cell_type": "markdown",
   "id": "9dae1fa0-e68c-4fa0-a1bf-660b6070328d",
   "metadata": {},
   "source": [
    "1.What is indentation error? Why indentation is important? Give one simple example?"
   ]
  },
  {
   "cell_type": "markdown",
   "id": "3cf1dbea-cc3d-472b-8f94-9ee1cfa0e607",
   "metadata": {},
   "source": [
    "Indentation is space or tab space beginning of a code. Python is space sensitive language and we can't write loop/function without indentation in python. Python uses indentation to indicate a block of loop/function. "
   ]
  },
  {
   "cell_type": "code",
   "execution_count": 3,
   "id": "01c08c2d-ded0-4649-93f5-85fe075a19f9",
   "metadata": {},
   "outputs": [
    {
     "ename": "IndentationError",
     "evalue": "expected an indented block (2278476918.py, line 6)",
     "output_type": "error",
     "traceback": [
      "\u001b[1;36m  Input \u001b[1;32mIn [3]\u001b[1;36m\u001b[0m\n\u001b[1;33m    print(f\"a is equals to b\")\u001b[0m\n\u001b[1;37m    ^\u001b[0m\n\u001b[1;31mIndentationError\u001b[0m\u001b[1;31m:\u001b[0m expected an indented block\n"
     ]
    }
   ],
   "source": [
    "#Example with indentation error\n",
    "a = 1\n",
    "b = 2\n",
    "\n",
    "if a == b:\n",
    "#print(f\"a is equals to b\")\n",
    "else:\n",
    "    print(f\"a is not equals to b\")\n"
   ]
  },
  {
   "cell_type": "code",
   "execution_count": 4,
   "id": "63cfd169-bc66-4e7e-ac0e-5dbfa5e1d232",
   "metadata": {},
   "outputs": [
    {
     "name": "stdout",
     "output_type": "stream",
     "text": [
      "a is not equals to b\n"
     ]
    }
   ],
   "source": [
    "##example after fixing the indentation block\n",
    "a = 1\n",
    "b = 2\n",
    "\n",
    "if a == b:\n",
    "    print(f\"a is equals to b\")\n",
    "else:\n",
    "    print(f\"a is not equals to b\")"
   ]
  },
  {
   "cell_type": "markdown",
   "id": "2014aefa-076b-4b71-9005-cb1cb48c20dc",
   "metadata": {},
   "source": [
    "2.Correct the following code and write the comment where you made the correction?\n"
   ]
  },
  {
   "cell_type": "markdown",
   "id": "ee028897-df99-4029-bff9-6b4795fee32f",
   "metadata": {},
   "source": [
    "class_started = bool(input(\"Hey friend, is class started?: [0-False/1-True]\"))\n",
    "\n",
    "if class_started:\n",
    "   print(\"Since class started...\")\n",
    "   print(\"Lets concentrate\")\n",
    "else:\n",
    "   print(\"Since class is not started...\")\n",
    "   print(\"let's revise\")   "
   ]
  },
  {
   "cell_type": "code",
   "execution_count": 7,
   "id": "39372f7c-5328-4935-b024-44b745df3a10",
   "metadata": {},
   "outputs": [
    {
     "name": "stdout",
     "output_type": "stream",
     "text": [
      "Hey friend, is class started?: [0-False/1-True] 0\n"
     ]
    },
    {
     "name": "stdout",
     "output_type": "stream",
     "text": [
      "Since class is not started...\n",
      "let's revise\n"
     ]
    }
   ],
   "source": [
    "##Answer.. Added not in the if condition.\n",
    "class_started = bool( input(\"Hey friend, is class started?: [0-False/1-True]\"))\n",
    "\n",
    "if not class_started:\n",
    "   print(\"Since class started...\")\n",
    "   print(\"Lets concentrate\")\n",
    "else:\n",
    "   print(\"Since class is not started...\")\n",
    "   print(\"let's revise\")   "
   ]
  },
  {
   "cell_type": "markdown",
   "id": "40c744a1-f30e-4104-b8c2-e4b13ced44f1",
   "metadata": {},
   "source": [
    "3. Use if else condition to verify that dataype of input() method in python is always string."
   ]
  },
  {
   "cell_type": "code",
   "execution_count": 22,
   "id": "4d158022-c79c-4315-9de3-65b2fe9e2722",
   "metadata": {},
   "outputs": [
    {
     "name": "stdout",
     "output_type": "stream",
     "text": [
      "enter a string 2\n"
     ]
    },
    {
     "name": "stdout",
     "output_type": "stream",
     "text": [
      "<class 'str'>\n"
     ]
    }
   ],
   "source": [
    "s_string = input(\"enter a string\")\n",
    "s_string_type = type(s_string)\n",
    "if s_string_type == str:\n",
    "    print(s_string_type)\n",
    "else:\n",
    "    print(str(s_string))\n"
   ]
  },
  {
   "cell_type": "markdown",
   "id": "560bfe82-0399-42a5-8add-05e8d2e272cf",
   "metadata": {},
   "source": [
    "4.Take 3 variables and assign integer values to them. Find the largest variable, by only using the if and else conditions."
   ]
  },
  {
   "cell_type": "code",
   "execution_count": 32,
   "id": "c419d5db-ce22-4fe5-927b-79251318d37c",
   "metadata": {},
   "outputs": [
    {
     "name": "stdout",
     "output_type": "stream",
     "text": [
      "largest number is b\n"
     ]
    }
   ],
   "source": [
    "a = 3\n",
    "b = 7\n",
    "c = 5\n",
    "\n",
    "if a>b and a>c: \n",
    "    print(f\"largest variable is a\")\n",
    "elif b>a and b>c:\n",
    "    print(f\"largest number is b\")\n",
    "elif c>a and c>b:\n",
    "    print(f\"largest number is c\")\n",
    "else:\n",
    "    print(\"all values are same\")\n",
    "    \n",
    "\n"
   ]
  },
  {
   "cell_type": "markdown",
   "id": "d425a2c8-aa1c-4141-bb1b-e4bbb0f5d1f1",
   "metadata": {},
   "source": [
    "5. What would be the solution?\n",
    "\n",
    "True\n",
    "\n",
    "False  "
   ]
  },
  {
   "cell_type": "code",
   "execution_count": 35,
   "id": "0bd0f8a9-f932-400f-9bb9-c2ba011eae2d",
   "metadata": {},
   "outputs": [
    {
     "name": "stdout",
     "output_type": "stream",
     "text": [
      "False\n"
     ]
    }
   ],
   "source": [
    "#Answer is false for the below code. \n",
    "a = 6\n",
    "b = 10\n",
    "print( not ( not a == 10 or not b == 10) )"
   ]
  },
  {
   "cell_type": "markdown",
   "id": "3962e3b2-f294-470d-846b-09794267bf1c",
   "metadata": {},
   "source": [
    "6.Find the answer as well as find out the reason behind the result? -\n"
   ]
  },
  {
   "cell_type": "code",
   "execution_count": 37,
   "id": "36d4759b-6b10-43cf-8c12-d9bd5fc540a2",
   "metadata": {},
   "outputs": [
    {
     "name": "stdout",
     "output_type": "stream",
     "text": [
      "False\n"
     ]
    }
   ],
   "source": [
    "#case 1: in this case answer is false because of the ids of A and B are different in this case. \n",
    "#Python unders that a==b only when the ids are the same. \n",
    "#hence the output is false. \n",
    "A = 5.0\n",
    "B = 10/2\n",
    "print(A is B)"
   ]
  },
  {
   "cell_type": "code",
   "execution_count": 55,
   "id": "a4f210da-5659-43c2-b55a-14423302ba92",
   "metadata": {},
   "outputs": [
    {
     "name": "stdout",
     "output_type": "stream",
     "text": [
      "2564727340272\n",
      "2564728520784\n",
      "2564613499312\n",
      "2564613499312\n",
      "True\n"
     ]
    }
   ],
   "source": [
    "#answer: Converted A and B as integer to store python into same IDs. \n",
    "A = 5.0\n",
    "B = 10/2\n",
    "\n",
    "#IDs of the A and B\n",
    "print(id(B))\n",
    "print(id(A))\n",
    "\n",
    "#after converted a and b values as integer then the ids became same. \n",
    "a = int(A)\n",
    "b= int(B)\n",
    "\n",
    "print(id(a))\n",
    "print(id(b))\n",
    "      \n",
    "print(int(A) is int(B))\n"
   ]
  },
  {
   "cell_type": "code",
   "execution_count": 59,
   "id": "17c4ab28-355b-495c-b1c4-e80903fde09d",
   "metadata": {},
   "outputs": [
    {
     "name": "stdout",
     "output_type": "stream",
     "text": [
      "2564727338224\n",
      "2564613499312\n",
      "2564613499312\n",
      "2564613499312\n",
      "True\n"
     ]
    }
   ],
   "source": [
    "#case2 Ids are not same for the A and B because B value converted into integer. \n",
    "A = 5.0\n",
    "B = int(10/2)\n",
    "\n",
    "print(id(A))\n",
    "print(id(B))\n",
    "\n",
    "a = int(A)\n",
    "b= int(B)\n",
    "\n",
    "print(id(a))\n",
    "print(id(b))\n",
    "\n",
    "print(int(A) is int(B))"
   ]
  },
  {
   "cell_type": "code",
   "execution_count": 81,
   "id": "c7ac9f7d-7183-4cfb-8733-27d463d8fc00",
   "metadata": {},
   "outputs": [
    {
     "name": "stdout",
     "output_type": "stream",
     "text": [
      "5.0\n",
      "True\n"
     ]
    }
   ],
   "source": [
    "#case 3: b value converted into integer and if we convert B data type in the print statement then we will the output as true. \n",
    "A = 5.0\n",
    "B = float(10/2)\n",
    "\n",
    "print(int(A) is int(B))"
   ]
  },
  {
   "cell_type": "markdown",
   "id": "1b5083f0-6b49-4adb-a2ae-55bdf3a90956",
   "metadata": {},
   "source": [
    "7.Write a program that asks the user to enter a number. You should print out a message to the user, either “That number is divisible by either 3 or 5”, or “That number is not divisible by either 3 or 5”. Be sure to consider the data type of the input you are taking in from the user. Use a single if/else block to solve this problem."
   ]
  },
  {
   "cell_type": "code",
   "execution_count": 90,
   "id": "76d1c42d-4253-4e72-8bd4-5e37269a5d2b",
   "metadata": {},
   "outputs": [
    {
     "name": "stdout",
     "output_type": "stream",
     "text": [
      "Enter a number. 100100\n"
     ]
    },
    {
     "name": "stdout",
     "output_type": "stream",
     "text": [
      "Given number is divisible by either 3 or 5\n"
     ]
    }
   ],
   "source": [
    "a = int(input(\"Enter a number.\")) \n",
    "if a%3 != 0 and a%5 !=0:\n",
    "    print(\"Given number isn't divisible by either 3 or 5\")\n",
    "else:\n",
    "    print(\"Given number is divisible by either 3 or 5\")\n"
   ]
  },
  {
   "cell_type": "markdown",
   "id": "88bd2254-f324-4b2d-ae2c-a5a52423f86b",
   "metadata": {},
   "source": [
    "8.Take user input for length and width. Then calculate the area of rectangle. Also print as per length and width whether its a square of rectangle."
   ]
  },
  {
   "cell_type": "code",
   "execution_count": 95,
   "id": "553be64e-dab3-4614-8082-6a48a3569133",
   "metadata": {},
   "outputs": [
    {
     "name": "stdout",
     "output_type": "stream",
     "text": [
      "Enther the length: 3\n",
      "Enther the width: 4\n"
     ]
    },
    {
     "name": "stdout",
     "output_type": "stream",
     "text": [
      "it isn't a square shape rectangle\n",
      "Arear of the rectangle for the given values are:12.0\n"
     ]
    }
   ],
   "source": [
    "l = float(input(\"Enther the length:\"))\n",
    "w = float(input(\"Enther the width:\"))\n",
    "a = l*w\n",
    "if l==w:\n",
    "    print(f\"its a square shape rectangle\")\n",
    "    print(f\"Area of the square shape rectangle for the given values are:{a}\")\n",
    "else:\n",
    "    print(f\"it isn't a square shape rectangle\")\n",
    "    print(f\"Arear of the rectangle for the given values are:{a}\")\n",
    "    "
   ]
  },
  {
   "cell_type": "markdown",
   "id": "349fc9ff-745c-4b3c-8faa-eec477b03ab7",
   "metadata": {},
   "source": [
    "9.Take two variable radius_1 and radius_2 and calculate the area of circle_1 and circle_2. Also print which circle has large area. If area is equal then print area is equal."
   ]
  },
  {
   "cell_type": "code",
   "execution_count": 100,
   "id": "bb160171-a390-45a0-981f-5d72e1c1940a",
   "metadata": {},
   "outputs": [
    {
     "name": "stdout",
     "output_type": "stream",
     "text": [
      "Enter the radius of circle_1 20\n",
      "Enter the radius of circle_2 10\n"
     ]
    },
    {
     "name": "stdout",
     "output_type": "stream",
     "text": [
      "Circle_1 has the largest area. Circle_1 area is 1256.0\n"
     ]
    }
   ],
   "source": [
    "radius_1 = float(input(\"Enter the radius of circle_1\"))\n",
    "radius_2 = float(input(\"Enter the radius of circle_2\"))\n",
    "PI = 3.14\n",
    "area_1 = PI * radius_1* radius_1\n",
    "area_2 = PI * radius_2* radius_2\n",
    "if area_1>area_2:\n",
    "    print(f\"Circle_1 has the largest area. Circle_1 area is {area_1}\")\n",
    "elif area_1<area_2:\n",
    "    print(f\"Circle_2 has the largest area. Circle_2 area is {area_2}\")\n",
    "else:\n",
    "    print(f\"Two circles have equal arear. Area is {area_1}\")\n",
    "    \n",
    "    \n"
   ]
  },
  {
   "cell_type": "markdown",
   "id": "a86958f7-2caa-4c75-9b14-445a19be4532",
   "metadata": {},
   "source": [
    "10.Check whether a year is leap year or not. Use nested if...else to solve this problem. A leap year is exactly divisible by 4 except for century years (years ending with 00). The century year is a leap year only if it is perfectly divisible by 400."
   ]
  },
  {
   "cell_type": "code",
   "execution_count": 104,
   "id": "8a7cd80f-091f-40ce-840b-f07c27d6a418",
   "metadata": {},
   "outputs": [
    {
     "name": "stdout",
     "output_type": "stream",
     "text": [
      "Enter a year 1900\n"
     ]
    },
    {
     "name": "stdout",
     "output_type": "stream",
     "text": [
      "Entered year isn't a leap year\n"
     ]
    }
   ],
   "source": [
    "a = int(input('Enter a year'))\n",
    "\n",
    "if a%4==0:\n",
    "    if a%400==0:\n",
    "        print (\"Entered year is a leap year.\")\n",
    "    else:\n",
    "        print(\"Entered year isn't a leap year\")\n",
    "else:\n",
    "    print(\"Entered year isn't a leap year\")\n"
   ]
  },
  {
   "cell_type": "code",
   "execution_count": null,
   "id": "40860530-a204-413a-ae93-877a088ec162",
   "metadata": {},
   "outputs": [],
   "source": []
  }
 ],
 "metadata": {
  "kernelspec": {
   "display_name": "Python 3.9.12 ('base')",
   "language": "python",
   "name": "python3"
  },
  "language_info": {
   "codemirror_mode": {
    "name": "ipython",
    "version": 3
   },
   "file_extension": ".py",
   "mimetype": "text/x-python",
   "name": "python",
   "nbconvert_exporter": "python",
   "pygments_lexer": "ipython3",
   "version": "3.9.12"
  },
  "vscode": {
   "interpreter": {
    "hash": "e5b1a6336730c0c46db5d4412cfcf36e5c3ac8138a785b41e7a7dc62f345e6ea"
   }
  }
 },
 "nbformat": 4,
 "nbformat_minor": 5
}
